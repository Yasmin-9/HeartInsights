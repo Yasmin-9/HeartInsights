{
 "cells": [
  {
   "cell_type": "code",
   "execution_count": 1,
   "metadata": {},
   "outputs": [],
   "source": [
    "# Dependencies\n",
    "import pandas as pd\n",
    "import numpy as np\n",
    "import matplotlib.pyplot as plt\n",
    "import scipy.stats as st\n",
    "from pathlib import Path"
   ]
  },
  {
   "cell_type": "code",
   "execution_count": 3,
   "metadata": {},
   "outputs": [
    {
     "data": {
      "text/html": [
       "<div>\n",
       "<style scoped>\n",
       "    .dataframe tbody tr th:only-of-type {\n",
       "        vertical-align: middle;\n",
       "    }\n",
       "\n",
       "    .dataframe tbody tr th {\n",
       "        vertical-align: top;\n",
       "    }\n",
       "\n",
       "    .dataframe thead th {\n",
       "        text-align: right;\n",
       "    }\n",
       "</style>\n",
       "<table border=\"1\" class=\"dataframe\">\n",
       "  <thead>\n",
       "    <tr style=\"text-align: right;\">\n",
       "      <th></th>\n",
       "      <th>ID</th>\n",
       "      <th>SEX</th>\n",
       "      <th>TOTAL CHOLESTROL</th>\n",
       "      <th>AGE</th>\n",
       "      <th>SMOKING STATUS</th>\n",
       "      <th>CIGS PER DAY</th>\n",
       "      <th>EDUCATION</th>\n",
       "      <th>PREVALENT CHD</th>\n",
       "      <th>PERIOD</th>\n",
       "      <th>BMI</th>\n",
       "    </tr>\n",
       "  </thead>\n",
       "  <tbody>\n",
       "    <tr>\n",
       "      <th>0</th>\n",
       "      <td>2448</td>\n",
       "      <td>M</td>\n",
       "      <td>195.0</td>\n",
       "      <td>39</td>\n",
       "      <td>NO</td>\n",
       "      <td>0</td>\n",
       "      <td>4</td>\n",
       "      <td>NO</td>\n",
       "      <td>1</td>\n",
       "      <td>26.97</td>\n",
       "    </tr>\n",
       "    <tr>\n",
       "      <th>1</th>\n",
       "      <td>6238</td>\n",
       "      <td>F</td>\n",
       "      <td>250.0</td>\n",
       "      <td>46</td>\n",
       "      <td>NO</td>\n",
       "      <td>0</td>\n",
       "      <td>2</td>\n",
       "      <td>NO</td>\n",
       "      <td>1</td>\n",
       "      <td>28.73</td>\n",
       "    </tr>\n",
       "    <tr>\n",
       "      <th>2</th>\n",
       "      <td>6238</td>\n",
       "      <td>F</td>\n",
       "      <td>260.0</td>\n",
       "      <td>52</td>\n",
       "      <td>NO</td>\n",
       "      <td>0</td>\n",
       "      <td>2</td>\n",
       "      <td>NO</td>\n",
       "      <td>2</td>\n",
       "      <td>29.43</td>\n",
       "    </tr>\n",
       "    <tr>\n",
       "      <th>3</th>\n",
       "      <td>6238</td>\n",
       "      <td>F</td>\n",
       "      <td>237.0</td>\n",
       "      <td>58</td>\n",
       "      <td>NO</td>\n",
       "      <td>0</td>\n",
       "      <td>2</td>\n",
       "      <td>NO</td>\n",
       "      <td>3</td>\n",
       "      <td>28.50</td>\n",
       "    </tr>\n",
       "    <tr>\n",
       "      <th>4</th>\n",
       "      <td>9428</td>\n",
       "      <td>M</td>\n",
       "      <td>245.0</td>\n",
       "      <td>48</td>\n",
       "      <td>YES</td>\n",
       "      <td>20</td>\n",
       "      <td>1</td>\n",
       "      <td>NO</td>\n",
       "      <td>1</td>\n",
       "      <td>25.34</td>\n",
       "    </tr>\n",
       "  </tbody>\n",
       "</table>\n",
       "</div>"
      ],
      "text/plain": [
       "     ID SEX  TOTAL CHOLESTROL  AGE SMOKING STATUS  CIGS PER DAY  EDUCATION  \\\n",
       "0  2448   M             195.0   39             NO             0          4   \n",
       "1  6238   F             250.0   46             NO             0          2   \n",
       "2  6238   F             260.0   52             NO             0          2   \n",
       "3  6238   F             237.0   58             NO             0          2   \n",
       "4  9428   M             245.0   48            YES            20          1   \n",
       "\n",
       "  PREVALENT CHD  PERIOD    BMI  \n",
       "0            NO       1  26.97  \n",
       "1            NO       1  28.73  \n",
       "2            NO       2  29.43  \n",
       "3            NO       3  28.50  \n",
       "4            NO       1  25.34  "
      ]
     },
     "execution_count": 3,
     "metadata": {},
     "output_type": "execute_result"
    }
   ],
   "source": [
    "# Initializing clean csv file\n",
    "\n",
    "cleanpath = Path('../csv/clean_data.csv')\n",
    "file = pd.read_csv(cleanpath)\n",
    "file.head()\n"
   ]
  },
  {
   "cell_type": "code",
   "execution_count": null,
   "metadata": {},
   "outputs": [],
   "source": [
    "##PSEUDO-CODING:\n",
    "# FIRST) compare participant's SEX and their PREVCHD. (ID,SEX,PREVCHD, PERIOD==1)\n",
    "#   cut down columns to ID, SEX, PREVCHD, PERIOD\n",
    "#   Filter by (Period == 1)\n",
    "\n",
    "# SECOND) display it in a graph (double bar graph OR pie graph to showcase which sex had more CHD.)\n",
    "#   x_axis = np.arange(len(sexes) \n",
    "#   y_axis_chd = <df>\n",
    "#       ADD CONIDITON: 'PREVALENT CHD' == 'YES'\n",
    "#       chdyes = <df>.loc[<df>[\"PREVALENT CHD\"]== 'YES',:] \n",
    "#   sexes = ['F','M']\n",
    "#   colors= ['coral','lightblue']\n",
    "#   plt.plot(x-axis, y-axis, color=colors, align = 'center' )\n",
    "#   plt.xlabel(\"Sex\")\n",
    "#   plt.ylabel(\"Count of Prevalent CHD\")\n",
    "\n",
    "# THIRD) compare sex AND smoking with CHD.\n",
    "\n",
    "# FOURTH) Sex and CHOL and CHD\n"
   ]
  },
  {
   "cell_type": "code",
   "execution_count": 7,
   "metadata": {},
   "outputs": [
    {
     "data": {
      "text/plain": [
       "ID               19089\n",
       "SEX              19089\n",
       "PREVALENT CHD    19089\n",
       "PERIOD           19089\n",
       "dtype: int64"
      ]
     },
     "execution_count": 7,
     "metadata": {},
     "output_type": "execute_result"
    }
   ],
   "source": [
    "# The key focus in this segment is the subtopic: Sex and it's correlation with CHD\n",
    "\n",
    "#Narrow down data set to relevant columns\n",
    "\n",
    "sex_df = file[['ID','SEX','PREVALENT CHD','PERIOD']]\n",
    "\n",
    "sex_df.head(20)\n",
    "\n",
    "#self note: logically, it makes sense to narrow down further and only display results of participants from period 1 \n",
    "#only, to see if they were CHD riddled before. \n",
    "#   I could further extend by comparing the results (graph) with a 'period 3' time frame.\n",
    "#   \n",
    "sex_df.count()"
   ]
  },
  {
   "cell_type": "code",
   "execution_count": 6,
   "metadata": {},
   "outputs": [
    {
     "data": {
      "text/plain": [
       "ID               1\n",
       "SEX              1\n",
       "PREVALENT CHD    1\n",
       "PERIOD           1\n",
       "dtype: int64"
      ]
     },
     "execution_count": 6,
     "metadata": {},
     "output_type": "execute_result"
    }
   ],
   "source": [
    "test = sex_df.loc[sex_df['ID']==2448,:].count()\n",
    "test"
   ]
  }
 ],
 "metadata": {
  "kernelspec": {
   "display_name": "base",
   "language": "python",
   "name": "python3"
  },
  "language_info": {
   "codemirror_mode": {
    "name": "ipython",
    "version": 3
   },
   "file_extension": ".py",
   "mimetype": "text/x-python",
   "name": "python",
   "nbconvert_exporter": "python",
   "pygments_lexer": "ipython3",
   "version": "3.11.4"
  },
  "orig_nbformat": 4
 },
 "nbformat": 4,
 "nbformat_minor": 2
}
