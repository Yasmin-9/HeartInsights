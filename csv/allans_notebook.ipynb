{
 "cells": [
  {
   "cell_type": "code",
   "execution_count": 2,
   "metadata": {},
   "outputs": [],
   "source": [
    "# Dependencies\n",
    "import pandas as pd\n",
    "import numpy as np\n",
    "import matplotlib.pyplot as plt\n",
    "import scipy.stats as st\n",
    "from pathlib import Path"
   ]
  },
  {
   "cell_type": "code",
   "execution_count": 3,
   "metadata": {},
   "outputs": [
    {
     "data": {
      "text/html": [
       "<div>\n",
       "<style scoped>\n",
       "    .dataframe tbody tr th:only-of-type {\n",
       "        vertical-align: middle;\n",
       "    }\n",
       "\n",
       "    .dataframe tbody tr th {\n",
       "        vertical-align: top;\n",
       "    }\n",
       "\n",
       "    .dataframe thead th {\n",
       "        text-align: right;\n",
       "    }\n",
       "</style>\n",
       "<table border=\"1\" class=\"dataframe\">\n",
       "  <thead>\n",
       "    <tr style=\"text-align: right;\">\n",
       "      <th></th>\n",
       "      <th>ID</th>\n",
       "      <th>SEX</th>\n",
       "      <th>TOTAL CHOLESTROL</th>\n",
       "      <th>AGE</th>\n",
       "      <th>SMOKING STATUS</th>\n",
       "      <th>CIGS PER DAY</th>\n",
       "      <th>EDUCATION</th>\n",
       "      <th>PREVALENT CHD</th>\n",
       "      <th>PERIOD</th>\n",
       "      <th>BMI</th>\n",
       "    </tr>\n",
       "  </thead>\n",
       "  <tbody>\n",
       "    <tr>\n",
       "      <th>0</th>\n",
       "      <td>6238</td>\n",
       "      <td>F</td>\n",
       "      <td>250.0</td>\n",
       "      <td>46</td>\n",
       "      <td>NO</td>\n",
       "      <td>0</td>\n",
       "      <td>2</td>\n",
       "      <td>NO</td>\n",
       "      <td>1</td>\n",
       "      <td>28.73</td>\n",
       "    </tr>\n",
       "    <tr>\n",
       "      <th>1</th>\n",
       "      <td>6238</td>\n",
       "      <td>F</td>\n",
       "      <td>260.0</td>\n",
       "      <td>52</td>\n",
       "      <td>NO</td>\n",
       "      <td>0</td>\n",
       "      <td>2</td>\n",
       "      <td>NO</td>\n",
       "      <td>2</td>\n",
       "      <td>29.43</td>\n",
       "    </tr>\n",
       "    <tr>\n",
       "      <th>2</th>\n",
       "      <td>6238</td>\n",
       "      <td>F</td>\n",
       "      <td>237.0</td>\n",
       "      <td>58</td>\n",
       "      <td>NO</td>\n",
       "      <td>0</td>\n",
       "      <td>2</td>\n",
       "      <td>NO</td>\n",
       "      <td>3</td>\n",
       "      <td>28.50</td>\n",
       "    </tr>\n",
       "    <tr>\n",
       "      <th>3</th>\n",
       "      <td>11263</td>\n",
       "      <td>F</td>\n",
       "      <td>228.0</td>\n",
       "      <td>43</td>\n",
       "      <td>NO</td>\n",
       "      <td>0</td>\n",
       "      <td>2</td>\n",
       "      <td>NO</td>\n",
       "      <td>1</td>\n",
       "      <td>30.30</td>\n",
       "    </tr>\n",
       "    <tr>\n",
       "      <th>4</th>\n",
       "      <td>11263</td>\n",
       "      <td>F</td>\n",
       "      <td>230.0</td>\n",
       "      <td>49</td>\n",
       "      <td>NO</td>\n",
       "      <td>0</td>\n",
       "      <td>2</td>\n",
       "      <td>NO</td>\n",
       "      <td>2</td>\n",
       "      <td>31.36</td>\n",
       "    </tr>\n",
       "  </tbody>\n",
       "</table>\n",
       "</div>"
      ],
      "text/plain": [
       "      ID SEX  TOTAL CHOLESTROL  AGE SMOKING STATUS  CIGS PER DAY  EDUCATION  \\\n",
       "0   6238   F             250.0   46             NO             0          2   \n",
       "1   6238   F             260.0   52             NO             0          2   \n",
       "2   6238   F             237.0   58             NO             0          2   \n",
       "3  11263   F             228.0   43             NO             0          2   \n",
       "4  11263   F             230.0   49             NO             0          2   \n",
       "\n",
       "  PREVALENT CHD  PERIOD    BMI  \n",
       "0            NO       1  28.73  \n",
       "1            NO       2  29.43  \n",
       "2            NO       3  28.50  \n",
       "3            NO       1  30.30  \n",
       "4            NO       2  31.36  "
      ]
     },
     "execution_count": 3,
     "metadata": {},
     "output_type": "execute_result"
    }
   ],
   "source": [
    "#Loading file into Path\n",
    "data = Path('clean_data.csv')\n",
    "#Reading data file\n",
    "data_df = pd.read_csv(data)\n",
    "data_df.head()"
   ]
  },
  {
   "cell_type": "markdown",
   "metadata": {},
   "source": [
    "# Hypothesis 1: There is a correlation between Smoking status and Prevalent CHD "
   ]
  },
  {
   "cell_type": "code",
   "execution_count": 4,
   "metadata": {},
   "outputs": [],
   "source": [
    "#Filter Data for Period 1 \n",
    "period_1_data = data_df.loc[data_df['PERIOD']==1, :]"
   ]
  },
  {
   "cell_type": "code",
   "execution_count": 5,
   "metadata": {},
   "outputs": [
    {
     "data": {
      "text/html": [
       "<div>\n",
       "<style scoped>\n",
       "    .dataframe tbody tr th:only-of-type {\n",
       "        vertical-align: middle;\n",
       "    }\n",
       "\n",
       "    .dataframe tbody tr th {\n",
       "        vertical-align: top;\n",
       "    }\n",
       "\n",
       "    .dataframe thead th {\n",
       "        text-align: right;\n",
       "    }\n",
       "</style>\n",
       "<table border=\"1\" class=\"dataframe\">\n",
       "  <thead>\n",
       "    <tr style=\"text-align: right;\">\n",
       "      <th>PREVALENT CHD</th>\n",
       "      <th>NO</th>\n",
       "      <th>YES</th>\n",
       "    </tr>\n",
       "    <tr>\n",
       "      <th>SMOKING STATUS</th>\n",
       "      <th></th>\n",
       "      <th></th>\n",
       "    </tr>\n",
       "  </thead>\n",
       "  <tbody>\n",
       "    <tr>\n",
       "      <th>NO</th>\n",
       "      <td>1415</td>\n",
       "      <td>40</td>\n",
       "    </tr>\n",
       "    <tr>\n",
       "      <th>YES</th>\n",
       "      <td>1275</td>\n",
       "      <td>24</td>\n",
       "    </tr>\n",
       "  </tbody>\n",
       "</table>\n",
       "</div>"
      ],
      "text/plain": [
       "PREVALENT CHD     NO  YES\n",
       "SMOKING STATUS           \n",
       "NO              1415   40\n",
       "YES             1275   24"
      ]
     },
     "execution_count": 5,
     "metadata": {},
     "output_type": "execute_result"
    }
   ],
   "source": [
    "#Grouping Data into Smoking Status and Prevalent CHD \n",
    "period_1_data_gb = period_1_data.groupby(['SMOKING STATUS', 'PREVALENT CHD']).count()\n",
    "#Keeping the count of smoking status prevalent CHD cases \n",
    "period_1_data_gb = pd.DataFrame(period_1_data_gb['ID'])\n",
    "# Reset the index to make the groupby columns regular columns\n",
    "period_1_data_gb = period_1_data_gb.reset_index()\n",
    "# Pivot the DataFrame to create a more readable table for plotting\n",
    "pivot_table_1 = period_1_data_gb.pivot(index='SMOKING STATUS', columns='PREVALENT CHD', values='ID')\n",
    "pivot_table_1"
   ]
  },
  {
   "cell_type": "code",
   "execution_count": 6,
   "metadata": {},
   "outputs": [
    {
     "data": {
      "text/plain": [
       "[Text(0, 0, 'Non Smoker'), Text(1, 0, 'Smoker')]"
      ]
     },
     "execution_count": 6,
     "metadata": {},
     "output_type": "execute_result"
    },
    {
     "data": {
      "image/png": "[encoded data removed]",
      "text/plain": [
       "<Figure size 700x700 with 1 Axes>"
      ]
     },
     "metadata": {},
     "output_type": "display_data"
    }
   ],
   "source": [
    "#List of xtick labels \n",
    "xtick_labels = ['Non Smoker', 'Smoker']\n",
    "\n",
    "period_1_plot = pivot_table_1.plot.bar(stacked=True, figsize = (7,7), ylabel = \"Number of Participants\", \n",
    "                                       title = \"Smoking Status v Prevalent CHD (Period 1)\", color = ['blue', 'red'],\n",
    "                                       edgecolor = 'black', rot = 0\n",
    "                                       )\n",
    "\n",
    "period_1_plot.set_xticklabels(xtick_labels)"
   ]
  },
  {
   "cell_type": "markdown",
   "metadata": {},
   "source": [
    "# Chi-Squared Test (Period 1 Data)"
   ]
  },
  {
   "cell_type": "code",
   "execution_count": 7,
   "metadata": {},
   "outputs": [
    {
     "data": {
      "text/html": [
       "<div>\n",
       "<style scoped>\n",
       "    .dataframe tbody tr th:only-of-type {\n",
       "        vertical-align: middle;\n",
       "    }\n",
       "\n",
       "    .dataframe tbody tr th {\n",
       "        vertical-align: top;\n",
       "    }\n",
       "\n",
       "    .dataframe thead th {\n",
       "        text-align: right;\n",
       "    }\n",
       "</style>\n",
       "<table border=\"1\" class=\"dataframe\">\n",
       "  <thead>\n",
       "    <tr style=\"text-align: right;\">\n",
       "      <th></th>\n",
       "      <th>Observed</th>\n",
       "      <th>Expected</th>\n",
       "    </tr>\n",
       "  </thead>\n",
       "  <tbody>\n",
       "    <tr>\n",
       "      <th>0</th>\n",
       "      <td>1415</td>\n",
       "      <td>1421.187364</td>\n",
       "    </tr>\n",
       "    <tr>\n",
       "      <th>1</th>\n",
       "      <td>40</td>\n",
       "      <td>33.812636</td>\n",
       "    </tr>\n",
       "    <tr>\n",
       "      <th>2</th>\n",
       "      <td>1275</td>\n",
       "      <td>1268.812636</td>\n",
       "    </tr>\n",
       "    <tr>\n",
       "      <th>3</th>\n",
       "      <td>24</td>\n",
       "      <td>30.187364</td>\n",
       "    </tr>\n",
       "  </tbody>\n",
       "</table>\n",
       "</div>"
      ],
      "text/plain": [
       "   Observed     Expected\n",
       "0      1415  1421.187364\n",
       "1        40    33.812636\n",
       "2      1275  1268.812636\n",
       "3        24    30.187364"
      ]
     },
     "execution_count": 7,
     "metadata": {},
     "output_type": "execute_result"
    }
   ],
   "source": [
    "#Df of Observed Vlaues \n",
    "expected_values = period_1_data_gb.copy()\n",
    "#Creating a Df of expected value \n",
    "rows_sum = pivot_table_1.sum(axis=1)\n",
    "colums_sum = pivot_table_1.sum(axis=0)\n",
    "\n",
    "#Calculating the expected values\n",
    "expected_values.loc[0, 'ID'] = (rows_sum[0]*colums_sum[0])/(sum(rows_sum))\n",
    "expected_values.loc[1, 'ID'] = (rows_sum[0]*colums_sum[1])/(sum(rows_sum))\n",
    "expected_values.loc[2, 'ID'] = (rows_sum[1]*colums_sum[0])/(sum(rows_sum))\n",
    "expected_values.loc[3, 'ID'] = (rows_sum[1]*colums_sum[1])/(sum(rows_sum))\n",
    "expected_values\n",
    "\n",
    "#Creating a table with the Observed and Expected values \n",
    "chi_square_table = pd.DataFrame()\n",
    "chi_square_table['Observed'] = period_1_data_gb['ID']\n",
    "chi_square_table['Expected'] = expected_values['ID']\n",
    "chi_square_table\n"
   ]
  },
  {
   "cell_type": "code",
   "execution_count": 8,
   "metadata": {},
   "outputs": [
    {
     "name": "stdout",
     "output_type": "stream",
     "text": [
      "This is the critical value 3.841458820694124\n"
     ]
    }
   ],
   "source": [
    "#Determing the critical vlaue \n",
    "critical_value = st.chi2.ppf(q = 0.95, df = 1)\n",
    "print(f\"This is the critical value {critical_value}\")"
   ]
  },
  {
   "cell_type": "code",
   "execution_count": 9,
   "metadata": {},
   "outputs": [
    {
     "data": {
      "text/plain": [
       "Power_divergenceResult(statistic=2.4575293790579784, pvalue=0.483015392747033)"
      ]
     },
     "execution_count": 9,
     "metadata": {},
     "output_type": "execute_result"
    }
   ],
   "source": [
    "# Run the chi square test with stats.chisquare()\n",
    "st.chisquare(chi_square_table['Observed'], chi_square_table['Expected'])"
   ]
  },
  {
   "cell_type": "markdown",
   "metadata": {},
   "source": [
    "# Conclusion \n",
    "\n",
    "Since the chi square value of 2.46 does not exceed the critical value of 7.81, we conclude that the results are statistically not significant."
   ]
  },
  {
   "cell_type": "code",
   "execution_count": 10,
   "metadata": {},
   "outputs": [],
   "source": [
    "#Filter Data for Period 3\n",
    "period_3_data = data_df.loc[data_df['PERIOD']==3, :]"
   ]
  },
  {
   "cell_type": "code",
   "execution_count": 11,
   "metadata": {},
   "outputs": [
    {
     "data": {
      "text/html": [
       "<div>\n",
       "<style scoped>\n",
       "    .dataframe tbody tr th:only-of-type {\n",
       "        vertical-align: middle;\n",
       "    }\n",
       "\n",
       "    .dataframe tbody tr th {\n",
       "        vertical-align: top;\n",
       "    }\n",
       "\n",
       "    .dataframe thead th {\n",
       "        text-align: right;\n",
       "    }\n",
       "</style>\n",
       "<table border=\"1\" class=\"dataframe\">\n",
       "  <thead>\n",
       "    <tr style=\"text-align: right;\">\n",
       "      <th>PREVALENT CHD</th>\n",
       "      <th>NO</th>\n",
       "      <th>YES</th>\n",
       "    </tr>\n",
       "    <tr>\n",
       "      <th>SMOKING STATUS</th>\n",
       "      <th></th>\n",
       "      <th></th>\n",
       "    </tr>\n",
       "  </thead>\n",
       "  <tbody>\n",
       "    <tr>\n",
       "      <th>NO</th>\n",
       "      <td>1601</td>\n",
       "      <td>219</td>\n",
       "    </tr>\n",
       "    <tr>\n",
       "      <th>YES</th>\n",
       "      <td>853</td>\n",
       "      <td>81</td>\n",
       "    </tr>\n",
       "  </tbody>\n",
       "</table>\n",
       "</div>"
      ],
      "text/plain": [
       "PREVALENT CHD     NO  YES\n",
       "SMOKING STATUS           \n",
       "NO              1601  219\n",
       "YES              853   81"
      ]
     },
     "execution_count": 11,
     "metadata": {},
     "output_type": "execute_result"
    }
   ],
   "source": [
    "#Grouping Data into Smoking Status and Prevalent CHD \n",
    "period_3_data_gb = period_3_data.groupby(['SMOKING STATUS', 'PREVALENT CHD']).count()\n",
    "#Keeping the count of smoking status prevalent CHD cases \n",
    "period_3_data_gb = pd.DataFrame(period_3_data_gb['ID'])\n",
    "# Reset the index to make the groupby columns regular columns\n",
    "period_3_data_gb = period_3_data_gb.reset_index()\n",
    "# Pivot the DataFrame to create a more readable table for plotting\n",
    "pivot_table_2 = period_3_data_gb.pivot(index='SMOKING STATUS', columns='PREVALENT CHD', values='ID')\n",
    "pivot_table_2"
   ]
  },
  {
   "cell_type": "code",
   "execution_count": 12,
   "metadata": {},
   "outputs": [
    {
     "data": {
      "text/plain": [
       "[Text(0, 0, 'Non Smoker'), Text(1, 0, 'Smoker')]"
      ]
     },
     "execution_count": 12,
     "metadata": {},
     "output_type": "execute_result"
    },
    {
     "data": {
      "image/png": "[encoded data removed]",
      "text/plain": [
       "<Figure size 700x700 with 1 Axes>"
      ]
     },
     "metadata": {},
     "output_type": "display_data"
    }
   ],
   "source": [
    "period_3_plot = pivot_table_2.plot.bar(stacked=True, figsize = (7,7), ylabel = \"Number of Participants\", \n",
    "                                       title = \"Smoking Status v Prevalent CHD (Period 3)\", color = ['blue', 'red'],\n",
    "                                       edgecolor = 'black', rot = 0\n",
    "                                       )\n",
    "period_3_plot.set_xticklabels(xtick_labels)"
   ]
  },
  {
   "cell_type": "markdown",
   "metadata": {},
   "source": [
    "# Chi-Squared Test (Period 3 Data)"
   ]
  },
  {
   "cell_type": "code",
   "execution_count": 13,
   "metadata": {},
   "outputs": [
    {
     "data": {
      "text/html": [
       "<div>\n",
       "<style scoped>\n",
       "    .dataframe tbody tr th:only-of-type {\n",
       "        vertical-align: middle;\n",
       "    }\n",
       "\n",
       "    .dataframe tbody tr th {\n",
       "        vertical-align: top;\n",
       "    }\n",
       "\n",
       "    .dataframe thead th {\n",
       "        text-align: right;\n",
       "    }\n",
       "</style>\n",
       "<table border=\"1\" class=\"dataframe\">\n",
       "  <thead>\n",
       "    <tr style=\"text-align: right;\">\n",
       "      <th></th>\n",
       "      <th>Observed</th>\n",
       "      <th>Expected</th>\n",
       "    </tr>\n",
       "  </thead>\n",
       "  <tbody>\n",
       "    <tr>\n",
       "      <th>0</th>\n",
       "      <td>1601</td>\n",
       "      <td>1621.742919</td>\n",
       "    </tr>\n",
       "    <tr>\n",
       "      <th>1</th>\n",
       "      <td>219</td>\n",
       "      <td>198.257081</td>\n",
       "    </tr>\n",
       "    <tr>\n",
       "      <th>2</th>\n",
       "      <td>853</td>\n",
       "      <td>832.257081</td>\n",
       "    </tr>\n",
       "    <tr>\n",
       "      <th>3</th>\n",
       "      <td>81</td>\n",
       "      <td>101.742919</td>\n",
       "    </tr>\n",
       "  </tbody>\n",
       "</table>\n",
       "</div>"
      ],
      "text/plain": [
       "   Observed     Expected\n",
       "0      1601  1621.742919\n",
       "1       219   198.257081\n",
       "2       853   832.257081\n",
       "3        81   101.742919"
      ]
     },
     "execution_count": 13,
     "metadata": {},
     "output_type": "execute_result"
    }
   ],
   "source": [
    "#Df of Observed Vlaues \n",
    "expected_values = period_3_data_gb.copy()\n",
    "#Creating a Df of expected value \n",
    "rows_sum = pivot_table_2.sum(axis=1)\n",
    "colums_sum = pivot_table_2.sum(axis=0)\n",
    "\n",
    "#Calculating the expected values\n",
    "expected_values.loc[0, 'ID'] = (rows_sum[0]*colums_sum[0])/(sum(rows_sum))\n",
    "expected_values.loc[1, 'ID'] = (rows_sum[0]*colums_sum[1])/(sum(rows_sum))\n",
    "expected_values.loc[2, 'ID'] = (rows_sum[1]*colums_sum[0])/(sum(rows_sum))\n",
    "expected_values.loc[3, 'ID'] = (rows_sum[1]*colums_sum[1])/(sum(rows_sum))\n",
    "expected_values\n",
    "\n",
    "#Creating a table with the Observed and Expected values \n",
    "chi_square_table = pd.DataFrame()\n",
    "chi_square_table['Observed'] = period_3_data_gb['ID']\n",
    "chi_square_table['Expected'] = expected_values['ID']\n",
    "chi_square_table"
   ]
  },
  {
   "cell_type": "code",
   "execution_count": 14,
   "metadata": {},
   "outputs": [
    {
     "name": "stdout",
     "output_type": "stream",
     "text": [
      "This is the critical value 3.841458820694124\n"
     ]
    }
   ],
   "source": [
    "#Determing the critical vlaue \n",
    "critical_value = st.chi2.ppf(q = 0.95, df = 1)\n",
    "print(f\"This is the critical value {critical_value}\")"
   ]
  },
  {
   "cell_type": "code",
   "execution_count": 15,
   "metadata": {},
   "outputs": [
    {
     "data": {
      "text/plain": [
       "Power_divergenceResult(statistic=7.181538444105906, pvalue=0.06633119265465821)"
      ]
     },
     "execution_count": 15,
     "metadata": {},
     "output_type": "execute_result"
    }
   ],
   "source": [
    "# Run the chi square test with stats.chisquare()\n",
    "st.chisquare(chi_square_table['Observed'], chi_square_table['Expected'])"
   ]
  },
  {
   "cell_type": "markdown",
   "metadata": {},
   "source": [
    "# Conclusion \n",
    "\n",
    "Since the chi square value of 7.18 doesexceed the critical value of 7.81, we conclude that the results are statistically significant."
   ]
  },
  {
   "cell_type": "markdown",
   "metadata": {},
   "source": [
    "# Hypothesis 2: There is a correlation between Age, Smoking Status and Prevalent CHD "
   ]
  },
  {
   "cell_type": "code",
   "execution_count": 23,
   "metadata": {},
   "outputs": [
    {
     "data": {
      "text/html": [
       "<div>\n",
       "<style scoped>\n",
       "    .dataframe tbody tr th:only-of-type {\n",
       "        vertical-align: middle;\n",
       "    }\n",
       "\n",
       "    .dataframe tbody tr th {\n",
       "        vertical-align: top;\n",
       "    }\n",
       "\n",
       "    .dataframe thead th {\n",
       "        text-align: right;\n",
       "    }\n",
       "</style>\n",
       "<table border=\"1\" class=\"dataframe\">\n",
       "  <thead>\n",
       "    <tr style=\"text-align: right;\">\n",
       "      <th></th>\n",
       "      <th>ID</th>\n",
       "      <th>SEX</th>\n",
       "      <th>TOTAL CHOLESTROL</th>\n",
       "      <th>AGE</th>\n",
       "      <th>SMOKING STATUS</th>\n",
       "      <th>CIGS PER DAY</th>\n",
       "      <th>EDUCATION</th>\n",
       "      <th>PREVALENT CHD</th>\n",
       "      <th>PERIOD</th>\n",
       "      <th>BMI</th>\n",
       "    </tr>\n",
       "  </thead>\n",
       "  <tbody>\n",
       "    <tr>\n",
       "      <th>9</th>\n",
       "      <td>16365</td>\n",
       "      <td>M</td>\n",
       "      <td>225.0</td>\n",
       "      <td>43</td>\n",
       "      <td>YES</td>\n",
       "      <td>30</td>\n",
       "      <td>1</td>\n",
       "      <td>NO</td>\n",
       "      <td>1</td>\n",
       "      <td>23.61</td>\n",
       "    </tr>\n",
       "    <tr>\n",
       "      <th>15</th>\n",
       "      <td>24721</td>\n",
       "      <td>F</td>\n",
       "      <td>226.0</td>\n",
       "      <td>39</td>\n",
       "      <td>YES</td>\n",
       "      <td>9</td>\n",
       "      <td>2</td>\n",
       "      <td>NO</td>\n",
       "      <td>1</td>\n",
       "      <td>22.35</td>\n",
       "    </tr>\n",
       "    <tr>\n",
       "      <th>18</th>\n",
       "      <td>33077</td>\n",
       "      <td>M</td>\n",
       "      <td>232.0</td>\n",
       "      <td>48</td>\n",
       "      <td>YES</td>\n",
       "      <td>10</td>\n",
       "      <td>3</td>\n",
       "      <td>NO</td>\n",
       "      <td>1</td>\n",
       "      <td>22.37</td>\n",
       "    </tr>\n",
       "    <tr>\n",
       "      <th>21</th>\n",
       "      <td>34689</td>\n",
       "      <td>F</td>\n",
       "      <td>195.0</td>\n",
       "      <td>38</td>\n",
       "      <td>YES</td>\n",
       "      <td>5</td>\n",
       "      <td>2</td>\n",
       "      <td>NO</td>\n",
       "      <td>1</td>\n",
       "      <td>23.24</td>\n",
       "    </tr>\n",
       "    <tr>\n",
       "      <th>27</th>\n",
       "      <td>40435</td>\n",
       "      <td>F</td>\n",
       "      <td>190.0</td>\n",
       "      <td>42</td>\n",
       "      <td>YES</td>\n",
       "      <td>30</td>\n",
       "      <td>2</td>\n",
       "      <td>NO</td>\n",
       "      <td>1</td>\n",
       "      <td>21.59</td>\n",
       "    </tr>\n",
       "    <tr>\n",
       "      <th>...</th>\n",
       "      <td>...</td>\n",
       "      <td>...</td>\n",
       "      <td>...</td>\n",
       "      <td>...</td>\n",
       "      <td>...</td>\n",
       "      <td>...</td>\n",
       "      <td>...</td>\n",
       "      <td>...</td>\n",
       "      <td>...</td>\n",
       "      <td>...</td>\n",
       "    </tr>\n",
       "    <tr>\n",
       "      <th>8223</th>\n",
       "      <td>9939850</td>\n",
       "      <td>F</td>\n",
       "      <td>230.0</td>\n",
       "      <td>56</td>\n",
       "      <td>YES</td>\n",
       "      <td>5</td>\n",
       "      <td>3</td>\n",
       "      <td>NO</td>\n",
       "      <td>1</td>\n",
       "      <td>24.71</td>\n",
       "    </tr>\n",
       "    <tr>\n",
       "      <th>8235</th>\n",
       "      <td>9961615</td>\n",
       "      <td>M</td>\n",
       "      <td>216.0</td>\n",
       "      <td>45</td>\n",
       "      <td>YES</td>\n",
       "      <td>43</td>\n",
       "      <td>4</td>\n",
       "      <td>NO</td>\n",
       "      <td>1</td>\n",
       "      <td>24.24</td>\n",
       "    </tr>\n",
       "    <tr>\n",
       "      <th>8247</th>\n",
       "      <td>9973350</td>\n",
       "      <td>F</td>\n",
       "      <td>251.0</td>\n",
       "      <td>51</td>\n",
       "      <td>YES</td>\n",
       "      <td>20</td>\n",
       "      <td>3</td>\n",
       "      <td>NO</td>\n",
       "      <td>1</td>\n",
       "      <td>25.60</td>\n",
       "    </tr>\n",
       "    <tr>\n",
       "      <th>8250</th>\n",
       "      <td>9978986</td>\n",
       "      <td>F</td>\n",
       "      <td>268.0</td>\n",
       "      <td>56</td>\n",
       "      <td>YES</td>\n",
       "      <td>3</td>\n",
       "      <td>1</td>\n",
       "      <td>NO</td>\n",
       "      <td>1</td>\n",
       "      <td>22.89</td>\n",
       "    </tr>\n",
       "    <tr>\n",
       "      <th>8256</th>\n",
       "      <td>9990894</td>\n",
       "      <td>F</td>\n",
       "      <td>248.0</td>\n",
       "      <td>48</td>\n",
       "      <td>YES</td>\n",
       "      <td>20</td>\n",
       "      <td>2</td>\n",
       "      <td>NO</td>\n",
       "      <td>1</td>\n",
       "      <td>22.00</td>\n",
       "    </tr>\n",
       "  </tbody>\n",
       "</table>\n",
       "<p>1299 rows × 10 columns</p>\n",
       "</div>"
      ],
      "text/plain": [
       "           ID SEX  TOTAL CHOLESTROL  AGE SMOKING STATUS  CIGS PER DAY  \\\n",
       "9       16365   M             225.0   43            YES            30   \n",
       "15      24721   F             226.0   39            YES             9   \n",
       "18      33077   M             232.0   48            YES            10   \n",
       "21      34689   F             195.0   38            YES             5   \n",
       "27      40435   F             190.0   42            YES            30   \n",
       "...       ...  ..               ...  ...            ...           ...   \n",
       "8223  9939850   F             230.0   56            YES             5   \n",
       "8235  9961615   M             216.0   45            YES            43   \n",
       "8247  9973350   F             251.0   51            YES            20   \n",
       "8250  9978986   F             268.0   56            YES             3   \n",
       "8256  9990894   F             248.0   48            YES            20   \n",
       "\n",
       "      EDUCATION PREVALENT CHD  PERIOD    BMI  \n",
       "9             1            NO       1  23.61  \n",
       "15            2            NO       1  22.35  \n",
       "18            3            NO       1  22.37  \n",
       "21            2            NO       1  23.24  \n",
       "27            2            NO       1  21.59  \n",
       "...         ...           ...     ...    ...  \n",
       "8223          3            NO       1  24.71  \n",
       "8235          4            NO       1  24.24  \n",
       "8247          3            NO       1  25.60  \n",
       "8250          1            NO       1  22.89  \n",
       "8256          2            NO       1  22.00  \n",
       "\n",
       "[1299 rows x 10 columns]"
      ]
     },
     "execution_count": 23,
     "metadata": {},
     "output_type": "execute_result"
    }
   ],
   "source": [
    "#Filtering data to isolate data for period 1 data & Smoking Status\n",
    "smoker_period_1_data = data_df.loc[(data_df['PERIOD']==1) & (data_df['SMOKING STATUS']=='YES')]\n",
    "#Filtering data to isolate data for period 1 data & Smoking Status\n",
    "smoker_period_3_data = data_df.loc[(data_df['PERIOD']==3) & (data_df['SMOKING STATUS']=='YES')]\n",
    "smoker_period_1_data"
   ]
  },
  {
   "cell_type": "code",
   "execution_count": null,
   "metadata": {},
   "outputs": [],
   "source": [
    "# Create the bins for the age groups\n",
    "bins = [25, 35, 45, 55, 65, 75, 85]\n",
    "\n",
    "# Create the names labels\n",
    "age_labels = [\"25-35\", \"35-45\", \"45-55\", \"55-65\", \"65-75\", \"75-85\"]"
   ]
  }
 ],
 "metadata": {
  "kernelspec": {
   "display_name": "dev",
   "language": "python",
   "name": "python3"
  },
  "language_info": {
   "codemirror_mode": {
    "name": "ipython",
    "version": 3
   },
   "file_extension": ".py",
   "mimetype": "text/x-python",
   "name": "python",
   "nbconvert_exporter": "python",
   "pygments_lexer": "ipython3",
   "version": "3.10.12"
  },
  "orig_nbformat": 4
 },
 "nbformat": 4,
 "nbformat_minor": 2
}
